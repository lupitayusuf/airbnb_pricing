{
 "cells": [
  {
   "cell_type": "markdown",
   "metadata": {},
   "source": [
    "In this project, I will build a model to make a prediction of NYC Airbnb Rental Prices based on the data provided and any external dataset(s) with relevant information. As of August 2019, this data set contains almost 50 thousand airbnb listings in NYC. "
   ]
  },
  {
   "cell_type": "code",
   "execution_count": 1,
   "metadata": {},
   "outputs": [],
   "source": [
    "import pandas as pd\n",
    "import numpy as np\n",
    "import matplotlib.pyplot as plt\n",
    "import seaborn as sns\n",
    "\n",
    "df = pd.read_csv('AB_NYC_2019.csv')"
   ]
  },
  {
   "cell_type": "markdown",
   "metadata": {},
   "source": [
    "I drop unnecessary field to make a prediction."
   ]
  },
  {
   "cell_type": "code",
   "execution_count": 2,
   "metadata": {},
   "outputs": [
    {
     "data": {
      "text/plain": [
       "neighbourhood_group                   0\n",
       "neighbourhood                         0\n",
       "latitude                              0\n",
       "longitude                             0\n",
       "room_type                             0\n",
       "price                                 0\n",
       "minimum_nights                        0\n",
       "number_of_reviews                     0\n",
       "reviews_per_month                 10052\n",
       "calculated_host_listings_count        0\n",
       "availability_365                      0\n",
       "dtype: int64"
      ]
     },
     "execution_count": 2,
     "metadata": {},
     "output_type": "execute_result"
    }
   ],
   "source": [
    "df.drop([\"id\", \"name\", \"host_id\", \"host_name\", \"last_review\"], axis = 1, inplace = True)\n",
    "df.isnull().sum()"
   ]
  },
  {
   "cell_type": "markdown",
   "metadata": {},
   "source": [
    "As we can see that in the reviews_per_month field, there are some missing values. \n",
    "- numberofreview: represents the total reviews given to specific id\n",
    "- lastreview: represents the most recent review's date.\n",
    "- reviewsper_month: represents the reviews given to a specific id in a month."
   ]
  },
  {
   "cell_type": "code",
   "execution_count": 3,
   "metadata": {},
   "outputs": [],
   "source": [
    "df[\"reviews_per_month\"].replace(np.nan , 0, inplace = True)"
   ]
  },
  {
   "cell_type": "markdown",
   "metadata": {},
   "source": [
    "Because we want to predict the rental prices of Airbnb, intuitively we want to know correlation between variable price and the other predictor variable."
   ]
  },
  {
   "cell_type": "code",
   "execution_count": 4,
   "metadata": {},
   "outputs": [
    {
     "data": {
      "text/plain": [
       "longitude                        -0.150019\n",
       "reviews_per_month                -0.050564\n",
       "number_of_reviews                -0.047954\n",
       "latitude                          0.033939\n",
       "minimum_nights                    0.042799\n",
       "calculated_host_listings_count    0.057472\n",
       "availability_365                  0.081829\n",
       "price                             1.000000\n",
       "Name: price, dtype: float64"
      ]
     },
     "execution_count": 4,
     "metadata": {},
     "output_type": "execute_result"
    }
   ],
   "source": [
    "df.corr()[\"price\"].sort_values()"
   ]
  },
  {
   "cell_type": "markdown",
   "metadata": {},
   "source": [
    "We see that the correlation among the other variables are not significant, either positive or negative correlation, it's close to zero. This is indicate that Linear Regression with one or two predictor is not suitable to make a pricing. <br> If we make histogram of price distribution, we can see the distribution is skewed to the right. It's nice if we can do a transformation so the distribution is close to normal. I try to do a log transformation on price data."
   ]
  },
  {
   "cell_type": "code",
   "execution_count": 5,
   "metadata": {},
   "outputs": [
    {
     "data": {
      "text/plain": [
       "<AxesSubplot:xlabel='price'>"
      ]
     },
     "execution_count": 5,
     "metadata": {},
     "output_type": "execute_result"
    },
    {
     "data": {
      "image/png": "[encoded data removed]",
      "text/plain": [
       "<Figure size 1512x432 with 2 Axes>"
      ]
     },
     "metadata": {
      "needs_background": "light"
     },
     "output_type": "display_data"
    }
   ],
   "source": [
    "fig, axes = plt.subplots(1, 2, figsize = (21, 6))\n",
    "sns.distplot(df[\"price\"], ax = axes[0])\n",
    "sns.distplot(np.log1p(df[\"price\"]), ax = axes[1])"
   ]
  },
  {
   "cell_type": "markdown",
   "metadata": {},
   "source": [
    "From those picture, on the left is the original price data and on the right is price data after transformation. We can see the histogram after we applied log transformation is close to normal distribution. <br>\n",
    "Next step is we made a dummies variable to present categorical data into numerical data such as room_type, neighbourhood_group, and neighbourhood field, using one-hot-encoding."
   ]
  },
  {
   "cell_type": "code",
   "execution_count": 6,
   "metadata": {},
   "outputs": [],
   "source": [
    "df_dummies1 = pd.get_dummies(df, columns = ['room_type'])\n",
    "df_dummies2 = pd.get_dummies(df_dummies1, columns = ['neighbourhood_group'])\n",
    "df_dummies3 = pd.get_dummies(df_dummies2, columns = ['neighbourhood'])\n",
    "from sklearn.model_selection import train_test_split"
   ]
  },
  {
   "cell_type": "code",
   "execution_count": 7,
   "metadata": {},
   "outputs": [
    {
     "data": {
      "text/plain": [
       "(48895, 237)"
      ]
     },
     "execution_count": 7,
     "metadata": {},
     "output_type": "execute_result"
    }
   ],
   "source": [
    "df_dummies3.shape"
   ]
  },
  {
   "cell_type": "markdown",
   "metadata": {},
   "source": [
    "Now, it's the part for building the model. I try several models and looking for the best accuracy in R-square based on cross validation. At first, I use Ridge Regression to predict the price with parameter alpha = 0.1."
   ]
  },
  {
   "cell_type": "code",
   "execution_count": 8,
   "metadata": {},
   "outputs": [
    {
     "data": {
      "text/plain": [
       "array([0.47887956, 0.50950195, 0.52890537])"
      ]
     },
     "execution_count": 8,
     "metadata": {},
     "output_type": "execute_result"
    }
   ],
   "source": [
    "from sklearn.linear_model import Ridge\n",
    "from sklearn.model_selection import cross_val_score\n",
    "X = df_dummies3.drop(['price'], axis = 1).values\n",
    "y = df_dummies3['price']\n",
    "X_train, X_test, y_train, y_test = train_test_split(X, y, test_size = 0.3, random_state = 0)\n",
    "y_train_log = np.log(y_train + 1)\n",
    "y_test_log = np.log(y_test + 1)\n",
    "y_log = np.log(y + 1)\n",
    "ridge = Ridge(alpha = 0.1)\n",
    "scores = cross_val_score(ridge, X, y_log, cv = 3)\n",
    "scores"
   ]
  },
  {
   "cell_type": "markdown",
   "metadata": {},
   "source": [
    "Then, we compare the result between Ridge and Lasso with parameter alpha = 0.0001."
   ]
  },
  {
   "cell_type": "code",
   "execution_count": 9,
   "metadata": {},
   "outputs": [
    {
     "data": {
      "text/plain": [
       "array([0.47720119, 0.50961282, 0.53177234])"
      ]
     },
     "execution_count": 9,
     "metadata": {},
     "output_type": "execute_result"
    }
   ],
   "source": [
    "from sklearn.linear_model import Lasso\n",
    "X = df_dummies3.drop(['price'], axis = 1).values\n",
    "y = df_dummies3['price']\n",
    "X_train, X_test, y_train, y_test = train_test_split(X, y, test_size = 0.3, random_state = 0)\n",
    "y_train_log = np.log(y_train + 1)\n",
    "y_test_log = np.log(y_test + 1)\n",
    "y_log = np.log(y + 1)\n",
    "lasso = Lasso(alpha = 0.0001)\n",
    "scores = cross_val_score(lasso, X, y_log, cv = 3)\n",
    "scores"
   ]
  },
  {
   "cell_type": "markdown",
   "metadata": {},
   "source": [
    "Ridge regression is usually the first choice between Linear Regression and Lasso model. However, if you have a large amount of features and expect only a few of them to be important, Lasso might be a better choice. Similarly, if you would like to have a model that is easy to interpret, Lasso will provide a model that is easier to understand, as it will select only a subset of the input features. <br>\n",
    "Now, we will try another model, which is a trees with Random Forest Regressor to predict the prices."
   ]
  },
  {
   "cell_type": "code",
   "execution_count": 10,
   "metadata": {},
   "outputs": [
    {
     "data": {
      "text/plain": [
       "array([0.5158481 , 0.55120776, 0.55642811])"
      ]
     },
     "execution_count": 10,
     "metadata": {},
     "output_type": "execute_result"
    }
   ],
   "source": [
    "from sklearn.model_selection import cross_val_score\n",
    "from sklearn.ensemble import RandomForestRegressor\n",
    "forest = RandomForestRegressor(n_estimators = 350, random_state = 0)\n",
    "X = df_dummies3.drop(['price'], axis = 1).values\n",
    "y = df_dummies3['price']\n",
    "X_train, X_test, y_train, y_test = train_test_split(X, y, test_size = 0.3, random_state = 0)\n",
    "y_train_log = np.log(y_train + 1)\n",
    "y_test_log = np.log(y_test + 1)\n",
    "y_log = np.log(y + 1)\n",
    "scores = cross_val_score(forest, X, y_log, cv = 3)\n",
    "scores"
   ]
  },
  {
   "cell_type": "markdown",
   "metadata": {},
   "source": [
    "Generally, if we compare between that three models, the best accuracy is predicting prices with Random Forest Regressor. But, the higher value of n_estimators parameter, the longer computing time to predict the price. The idea of random forests is that each tree might do a relatively good job of predicting, but will likely overfit on part of the data."
   ]
  }
 ],
 "metadata": {
  "kernelspec": {
   "display_name": "Python",
   "language": "python",
   "name": "conda-env-python-py"
  },
  "language_info": {
   "codemirror_mode": {
    "name": "ipython",
    "version": 3
   },
   "file_extension": ".py",
   "mimetype": "text/x-python",
   "name": "python",
   "nbconvert_exporter": "python",
   "pygments_lexer": "ipython3",
   "version": "3.6.11"
  }
 },
 "nbformat": 4,
 "nbformat_minor": 4
}
